{
 "cells": [
  {
   "cell_type": "code",
   "execution_count": 1,
   "metadata": {},
   "outputs": [],
   "source": [
    "import pandas as pd"
   ]
  },
  {
   "cell_type": "code",
   "execution_count": 2,
   "metadata": {},
   "outputs": [],
   "source": [
    "# 顧客網頁瀏覽行為\n",
    "df_web = pd.read_csv('TBN_CUST_BEHAVIOR.csv')\n",
    "\n",
    "# 顧客基本屬性資料\n",
    "df_cattr = pd.read_csv('TBN_CIF.csv')\n",
    "\n",
    "# 顧客信用卡核卡資料\n",
    "df_ccapply = pd.read_csv('TBN_CC_APPLY.csv')\n",
    "\n",
    "# 顧客外匯交易資料\n",
    "df_fx = pd.read_csv('TBN_FX_TXN.csv')\n",
    "\n",
    "# 顧客信貸申請資料\n",
    "df_lnapply = pd.read_csv('TBN_LN_APPLY.csv')\n",
    "\n",
    "# 顧客信託類產品交易資料\n",
    "df_wn = pd.read_csv('TBN_WM_TXN.csv')\n",
    "\n",
    "# 顧客最近一次交易時間 CC LN WM FX\n",
    "df_recent = pd.read_csv('TBN_RECENT_DT.csv')"
   ]
  },
  {
   "cell_type": "code",
   "execution_count": null,
   "metadata": {},
   "outputs": [],
   "source": [
    "# 顧客網頁瀏覽行為\n",
    "df_web.info()"
   ]
  },
  {
   "cell_type": "code",
   "execution_count": null,
   "metadata": {},
   "outputs": [],
   "source": [
    "# 顧客基本屬性資料\n",
    "df_cattr.info()"
   ]
  },
  {
   "cell_type": "code",
   "execution_count": null,
   "metadata": {},
   "outputs": [],
   "source": [
    "# 顧客信用卡核卡資料\n",
    "df_ccapply.info()"
   ]
  },
  {
   "cell_type": "code",
   "execution_count": null,
   "metadata": {},
   "outputs": [],
   "source": [
    "# 顧客外匯交易資料\n",
    "df_fx.info()"
   ]
  },
  {
   "cell_type": "code",
   "execution_count": null,
   "metadata": {},
   "outputs": [],
   "source": [
    "# 顧客信貸申請資料\n",
    "df_lnapply.info()"
   ]
  },
  {
   "cell_type": "code",
   "execution_count": null,
   "metadata": {},
   "outputs": [],
   "source": [
    "# 顧客信託類產品交易資料\n",
    "df_wn.info()"
   ]
  },
  {
   "cell_type": "code",
   "execution_count": null,
   "metadata": {},
   "outputs": [],
   "source": [
    "# 顧客最近一次交易時間 CC LN WM FX\n",
    "df_recent.info()"
   ]
  },
  {
   "cell_type": "code",
   "execution_count": null,
   "metadata": {},
   "outputs": [],
   "source": [
    "# merge_test\n",
    "# df = pd.merge(df_cattr, df_ccapply, on='CUST_NO', how='outer') # on=''設定key作為合併依據，how='outer'確保不一致標籤保留"
   ]
  },
  {
   "cell_type": "code",
   "execution_count": 3,
   "metadata": {},
   "outputs": [],
   "source": [
    "# df_cattr + 4種產品交易詳細資料df(df_ccapply, df_fx, df_lnapply, df_wn)\n",
    "df_merge = pd.merge(df_cattr, df_ccapply, on='CUST_NO', how='outer')"
   ]
  },
  {
   "cell_type": "code",
   "execution_count": null,
   "metadata": {},
   "outputs": [],
   "source": [
    "df_merge.info()"
   ]
  },
  {
   "cell_type": "code",
   "execution_count": 4,
   "metadata": {},
   "outputs": [],
   "source": [
    "df_merge = df_merge.rename(columns={'TXN_DT':'CC_TXN_DT'})"
   ]
  },
  {
   "cell_type": "code",
   "execution_count": 5,
   "metadata": {},
   "outputs": [],
   "source": [
    "df_merge = pd.merge(df_merge, df_fx, on='CUST_NO', how='outer')"
   ]
  },
  {
   "cell_type": "code",
   "execution_count": 6,
   "metadata": {},
   "outputs": [],
   "source": [
    "df_merge = df_merge.rename(columns={'TXN_DT':'FX_TXN_DT'})"
   ]
  },
  {
   "cell_type": "code",
   "execution_count": 7,
   "metadata": {},
   "outputs": [],
   "source": [
    "df_merge = pd.merge(df_merge, df_lnapply, on='CUST_NO', how='outer')"
   ]
  },
  {
   "cell_type": "code",
   "execution_count": 8,
   "metadata": {},
   "outputs": [],
   "source": [
    "df_merge = df_merge.rename(columns={'TXN_DT':'LN_TXN_DT'})"
   ]
  },
  {
   "cell_type": "code",
   "execution_count": 9,
   "metadata": {},
   "outputs": [],
   "source": [
    "df_merge = pd.merge(df_merge, df_wn, on='CUST_NO', how='outer')"
   ]
  },
  {
   "cell_type": "code",
   "execution_count": 10,
   "metadata": {},
   "outputs": [],
   "source": [
    "df_merge = df_merge.rename(columns={'TXN_DT':'WN_TXN_DT'})"
   ]
  },
  {
   "cell_type": "code",
   "execution_count": 11,
   "metadata": {},
   "outputs": [
    {
     "name": "stdout",
     "output_type": "stream",
     "text": [
      "<class 'pandas.core.frame.DataFrame'>\n",
      "Int64Index: 883654 entries, 0 to 883653\n",
      "Data columns (total 18 columns):\n",
      "CUST_NO              883654 non-null object\n",
      "AGE                  630342 non-null float64\n",
      "CHILDREN_CNT         629906 non-null float64\n",
      "CUST_START_DT        630342 non-null float64\n",
      "EDU_CODE             550203 non-null float64\n",
      "GENDER_CODE          627808 non-null object\n",
      "INCOME_RANGE_CODE    629956 non-null float64\n",
      "WORK_MTHS            502437 non-null float64\n",
      "CC_TXN_DT            163682 non-null float64\n",
      "FX_TXN_DT            693309 non-null float64\n",
      "FX_TXN_AMT           693309 non-null float64\n",
      "LN_TXN_DT            12828 non-null float64\n",
      "LN_AMT               12828 non-null float64\n",
      "LN_USE               12828 non-null object\n",
      "WN_TXN_DT            232208 non-null float64\n",
      "CUST_RISK_CODE       231968 non-null float64\n",
      "INVEST_TYPE_CODE     232208 non-null float64\n",
      "WM_TXN_AMT           232208 non-null float64\n",
      "dtypes: float64(15), object(3)\n",
      "memory usage: 128.1+ MB\n"
     ]
    }
   ],
   "source": [
    "# df_merge = df_cattr + (df_ccapply, df_fx, df_lnapply, df_wn)\n",
    "df_merge.info()"
   ]
  },
  {
   "cell_type": "code",
   "execution_count": null,
   "metadata": {},
   "outputs": [],
   "source": [
    "# df_all = df_merge + df_recent + df_web"
   ]
  },
  {
   "cell_type": "code",
   "execution_count": 12,
   "metadata": {},
   "outputs": [],
   "source": [
    "df_all = pd.merge(df_merge, df_recent, on='CUST_NO', how='outer')"
   ]
  },
  {
   "cell_type": "code",
   "execution_count": 13,
   "metadata": {},
   "outputs": [],
   "source": [
    "df_all = pd.merge(df_all, df_web, on='CUST_NO', how='outer')"
   ]
  },
  {
   "cell_type": "code",
   "execution_count": 14,
   "metadata": {},
   "outputs": [
    {
     "name": "stdout",
     "output_type": "stream",
     "text": [
      "<class 'pandas.core.frame.DataFrame'>\n",
      "Int64Index: 40951367 entries, 0 to 40951366\n",
      "Data columns (total 24 columns):\n",
      "CUST_NO              object\n",
      "AGE                  float64\n",
      "CHILDREN_CNT         float64\n",
      "CUST_START_DT        float64\n",
      "EDU_CODE             float64\n",
      "GENDER_CODE          object\n",
      "INCOME_RANGE_CODE    float64\n",
      "WORK_MTHS            float64\n",
      "CC_TXN_DT            float64\n",
      "FX_TXN_DT            float64\n",
      "FX_TXN_AMT           float64\n",
      "LN_TXN_DT            float64\n",
      "LN_AMT               float64\n",
      "LN_USE               object\n",
      "WN_TXN_DT            float64\n",
      "CUST_RISK_CODE       float64\n",
      "INVEST_TYPE_CODE     float64\n",
      "WM_TXN_AMT           float64\n",
      "CC_RECENT_DT         float64\n",
      "FX_RECENT_DT         float64\n",
      "LN_RECENT_DT         float64\n",
      "WM_RECENT_DT         float64\n",
      "VISITDATE            float64\n",
      "PAGE                 object\n",
      "dtypes: float64(20), object(4)\n",
      "memory usage: 7.6+ GB\n"
     ]
    }
   ],
   "source": [
    "# df_all = df_merge + df_recent + df_web\n",
    "df_all.info()"
   ]
  },
  {
   "cell_type": "code",
   "execution_count": null,
   "metadata": {},
   "outputs": [],
   "source": [
    "# 輸出df_merge\n",
    "df_merge.to_csv('merge.csv')"
   ]
  },
  {
   "cell_type": "code",
   "execution_count": null,
   "metadata": {},
   "outputs": [],
   "source": [
    "# 輸出df_all\n",
    "df_all.to_csv('all.csv')"
   ]
  }
 ],
 "metadata": {
  "kernelspec": {
   "display_name": "Python 3",
   "language": "python",
   "name": "python3"
  },
  "language_info": {
   "codemirror_mode": {
    "name": "ipython",
    "version": 3
   },
   "file_extension": ".py",
   "mimetype": "text/x-python",
   "name": "python",
   "nbconvert_exporter": "python",
   "pygments_lexer": "ipython3",
   "version": "3.6.8"
  }
 },
 "nbformat": 4,
 "nbformat_minor": 2
}
